{
 "cells": [
  {
   "cell_type": "markdown",
   "id": "6c86a11e",
   "metadata": {},
   "source": [
    "# data process"
   ]
  },
  {
   "cell_type": "markdown",
   "id": "959d6d8b",
   "metadata": {},
   "source": [
    "## uncompress tiny data"
   ]
  },
  {
   "cell_type": "code",
   "execution_count": 3,
   "id": "16379445",
   "metadata": {
    "ExecuteTime": {
     "end_time": "2021-09-22T14:54:51.087055Z",
     "start_time": "2021-09-22T14:54:50.968250Z"
    }
   },
   "outputs": [
    {
     "name": "stdout",
     "output_type": "stream",
     "text": [
      "expr.zip  STRINGDB.graph.csv.zip\r\n"
     ]
    }
   ],
   "source": [
    "!ls ../data"
   ]
  },
  {
   "cell_type": "code",
   "execution_count": 4,
   "id": "e8587e20",
   "metadata": {
    "ExecuteTime": {
     "end_time": "2021-09-22T14:57:36.848577Z",
     "start_time": "2021-09-22T14:57:35.497939Z"
    }
   },
   "outputs": [
    {
     "name": "stdout",
     "output_type": "stream",
     "text": [
      "Archive:  ../data/expr.zip\n",
      "  inflating: ../data/expr.label.subset.csv  \n",
      "  inflating: ../data/expr.mat.subset.csv  \n"
     ]
    }
   ],
   "source": [
    "!unzip ../data/expr.zip -d ../data"
   ]
  },
  {
   "cell_type": "code",
   "execution_count": 5,
   "id": "4cf91391",
   "metadata": {
    "ExecuteTime": {
     "end_time": "2021-09-22T14:57:57.003171Z",
     "start_time": "2021-09-22T14:57:53.328431Z"
    }
   },
   "outputs": [
    {
     "name": "stdout",
     "output_type": "stream",
     "text": [
      "Archive:  ../data/STRINGDB.graph.csv.zip\n",
      "  inflating: ../data/STRINGDB.graph.csv  \n"
     ]
    }
   ],
   "source": [
    "!unzip ../data/STRINGDB.graph.csv.zip -d ../data"
   ]
  },
  {
   "cell_type": "markdown",
   "id": "b24151e2",
   "metadata": {},
   "source": [
    "## construct dataset"
   ]
  },
  {
   "cell_type": "code",
   "execution_count": 8,
   "id": "f4d951bb",
   "metadata": {
    "ExecuteTime": {
     "end_time": "2021-09-22T15:21:44.841792Z",
     "start_time": "2021-09-22T15:21:13.564764Z"
    },
    "scrolled": true
   },
   "outputs": [
    {
     "name": "stdout",
     "output_type": "stream",
     "text": [
      "args: Namespace(expr='../data/expr.mat.subset.csv', label='../data/expr.label.subset.csv', net='../../gen_data/sc_data/graph/STRINGDB.graph.csv', outfile='../data/dataset.npz', quantile=0.99)\n",
      "shape of expression matrix [#genes,#cells]: (23459, 1000)\n",
      "shape of cell labels: 1000\n",
      "number of cell types: 5\n",
      "shape of backbone network: (133373, 2)\n",
      "Finished.\n"
     ]
    }
   ],
   "source": [
    "! python gen_data.py -expr ../data/expr.mat.subset.csv  -label ../data/expr.label.subset.csv \\\n",
    "            -net ../../gen_data/sc_data/graph/STRINGDB.graph.csv -out ../data/dataset.npz"
   ]
  },
  {
   "cell_type": "markdown",
   "id": "9e80e450",
   "metadata": {},
   "source": [
    "# model training"
   ]
  },
  {
   "cell_type": "code",
   "execution_count": 9,
   "id": "8a871115",
   "metadata": {
    "ExecuteTime": {
     "end_time": "2021-09-22T15:23:10.546152Z",
     "start_time": "2021-09-22T15:21:44.844759Z"
    }
   },
   "outputs": [
    {
     "name": "stdout",
     "output_type": "stream",
     "text": [
      "args: Namespace(batch_size=64, cuda=True, infile='../data/dataset.npz', outdir='../results')\n",
      "use wegithed cross entropy.... \n",
      "processing...\n",
      "only has 1 graph.\n",
      "processing...\n",
      "only has 1 graph.\n",
      "processing...\n",
      "only has 1 graph.\n",
      "org/imputed #cells: 800 800\n",
      "imputed amounts of each cell types Counter({4: 160, 0: 160, 1: 160, 3: 160, 2: 160})\n",
      "model dropout raito: 0.1\n",
      "/home/yinqijin/WorkSpace/9.gnn/scGraph/src/model.py:104: UserWarning: nn.init.xavier_uniform is now deprecated in favor of nn.init.xavier_uniform_.\n",
      "  nn.init.xavier_uniform(m.weight)\n",
      "scGraph(\n",
      "  (conv1): SAGEConv(1, 8)\n",
      "  (bn1): LayerNorm(torch.Size([23459, 8]), eps=1e-05, elementwise_affine=True)\n",
      "  (act1): ReLU()\n",
      "  (global_conv1): Conv2d(8, 12, kernel_size=[1, 1], stride=(1, 1))\n",
      "  (global_bn1): BatchNorm2d(12, eps=1e-05, momentum=0.1, affine=True, track_running_stats=True)\n",
      "  (global_act1): ReLU()\n",
      "  (global_conv2): Conv2d(12, 4, kernel_size=[1, 1], stride=(1, 1))\n",
      "  (global_bn2): BatchNorm2d(4, eps=1e-05, momentum=0.1, affine=True, track_running_stats=True)\n",
      "  (global_act2): ReLU()\n",
      "  (global_fc_nn): Sequential(\n",
      "    (0): Linear(in_features=93836, out_features=256, bias=True)\n",
      "    (1): BatchNorm1d(256, eps=1e-05, momentum=0.1, affine=True, track_running_stats=True)\n",
      "    (2): Dropout(p=0.3)\n",
      "    (3): ReLU()\n",
      "    (4): Linear(in_features=256, out_features=64, bias=True)\n",
      "    (5): BatchNorm1d(64, eps=1e-05, momentum=0.1, affine=True, track_running_stats=True)\n",
      "    (6): Dropout(p=0.3)\n",
      "    (7): ReLU()\n",
      "  )\n",
      "  (fc1): Linear(in_features=64, out_features=5, bias=True)\n",
      ")\n",
      "/home/yinqijin/Software/anaconda3/lib/python3.6/site-packages/sklearn/metrics/_classification.py:1245: UndefinedMetricWarning: Precision is ill-defined and being set to 0.0 in labels with no predicted samples. Use `zero_division` parameter to control this behavior.\n",
      "  _warn_prf(average, modifier, msg_start, len(result))\n",
      "epoch\t001,lr : 0.005657,loss: 1.433628,T-acc: 0.2420,T-f1: 0.1578\n",
      "/home/yinqijin/Software/anaconda3/lib/python3.6/site-packages/sklearn/metrics/_classification.py:1245: UndefinedMetricWarning: Precision is ill-defined and being set to 0.0 in labels with no predicted samples. Use `zero_division` parameter to control this behavior.\n",
      "  _warn_prf(average, modifier, msg_start, len(result))\n",
      "epoch\t002,lr : 0.000053,loss: 1.224099,T-acc: 0.4267,T-f1: 0.2706\n",
      "epoch\t003,lr : 0.004381,loss: 1.132943,T-acc: 0.8060,T-f1: 0.5439\n",
      "epoch\t004,lr : 0.002668,loss: 1.031652,T-acc: 0.9695,T-f1: 0.9676\n",
      "epoch\t005,lr : 0.000860,loss: 0.982878,T-acc: 0.9860,T-f1: 0.9856\n",
      "epoch\t006,lr : 0.000015,loss: 0.960804,T-acc: 0.9922,T-f1: 0.9921\n",
      "epoch\t007,lr : 0.002420,loss: 0.952400,T-acc: 0.9974,T-f1: 0.9974\n",
      "epoch\t008,lr : 0.002164,loss: 0.940969,T-acc: 0.9987,T-f1: 0.9987\n",
      "epoch\t009,lr : 0.001769,loss: 0.930289,T-acc: 0.9987,T-f1: 0.9987\n",
      "epoch\t010,lr : 0.001296,loss: 0.929939,T-acc: 0.9987,T-f1: 0.9987\n",
      "epoch\t011,lr : 0.000816,loss: 0.924681,T-acc: 0.9987,T-f1: 0.9987\n",
      "epoch\t012,lr : 0.000404,loss: 0.916773,T-acc: 0.9987,T-f1: 0.9987\n",
      "epoch\t013,lr : 0.000121,loss: 0.918066,T-acc: 0.9987,T-f1: 0.9987\n",
      "epoch\t014,lr : 0.000011,loss: 0.919388,T-acc: 1.0000,T-f1: 1.0000\n",
      "epoch\t015,lr : 0.001240,loss: 0.918222,T-acc: 1.0000,T-f1: 1.0000\n",
      "stage 2 training...\n",
      "processing...\n",
      "only has 1 graph.\n",
      "processing...\n",
      "only has 1 graph.\n",
      "org/imputed #cells: 640 640\n",
      "imputed amounts of each cell types Counter({2: 128, 3: 128, 1: 128, 0: 128, 4: 128})\n",
      "stage2 initilize lr: 0.0012399845236747882\n",
      "epoch\t016,lr : 0.001240,loss: 0.920864,T-acc: 1.0000,T-f1: 1.0000,acc: 1.0000,f1: 1.0000\n",
      "epoch\t017,lr : 0.001240,loss: 0.916894,T-acc: 1.0000,T-f1: 1.0000,acc: 1.0000,f1: 1.0000\n",
      "epoch\t018,lr : 0.001240,loss: 0.915296,T-acc: 1.0000,T-f1: 1.0000,acc: 1.0000,f1: 1.0000\n",
      "epoch\t019,lr : 0.001240,loss: 0.919547,T-acc: 1.0000,T-f1: 1.0000,acc: 1.0000,f1: 1.0000\n",
      "Epoch     3: reducing learning rate of group 0 to 1.2400e-04.\n",
      "reset max_metric_count to 0 due to updating lr from 0.001240 to 0.000124\n",
      "epoch\t020,lr : 0.000124,loss: 0.912670,T-acc: 1.0000,T-f1: 1.0000,acc: 1.0000,f1: 1.0000\n",
      "epoch\t021,lr : 0.000124,loss: 0.913889,T-acc: 1.0000,T-f1: 1.0000,acc: 1.0000,f1: 1.0000\n",
      "epoch\t022,lr : 0.000124,loss: 0.911622,T-acc: 1.0000,T-f1: 1.0000,acc: 1.0000,f1: 1.0000\n",
      "Epoch     6: reducing learning rate of group 0 to 1.2400e-05.\n",
      "reset max_metric_count to 0 due to updating lr from 0.000124 to 0.000012\n",
      "epoch\t023,lr : 0.000012,loss: 0.912611,T-acc: 1.0000,T-f1: 1.0000,acc: 1.0000,f1: 1.0000\n",
      "epoch\t024,lr : 0.000012,loss: 0.912024,T-acc: 1.0000,T-f1: 1.0000,acc: 1.0000,f1: 1.0000\n",
      "epoch\t025,lr : 0.000012,loss: 0.913034,T-acc: 1.0000,T-f1: 1.0000,acc: 1.0000,f1: 1.0000\n",
      "Epoch     9: reducing learning rate of group 0 to 1.0000e-05.\n",
      "F1: 0.930,Acc: 0.930\n"
     ]
    }
   ],
   "source": [
    "! CUDA_VISIBLE_DEVICES=5 python -u scGraph.py -in ../data/dataset.npz -out-dir ../results"
   ]
  },
  {
   "cell_type": "code",
   "execution_count": null,
   "id": "9df74c50",
   "metadata": {},
   "outputs": [],
   "source": []
  }
 ],
 "metadata": {
  "hide_input": false,
  "kernelspec": {
   "display_name": "pytorch1.1",
   "language": "python",
   "name": "pytorch1.1"
  },
  "language_info": {
   "codemirror_mode": {
    "name": "ipython",
    "version": 3
   },
   "file_extension": ".py",
   "mimetype": "text/x-python",
   "name": "python",
   "nbconvert_exporter": "python",
   "pygments_lexer": "ipython3",
   "version": "3.6.7"
  },
  "toc": {
   "base_numbering": 1,
   "nav_menu": {},
   "number_sections": true,
   "sideBar": true,
   "skip_h1_title": false,
   "title_cell": "Table of Contents",
   "title_sidebar": "Contents",
   "toc_cell": false,
   "toc_position": {},
   "toc_section_display": true,
   "toc_window_display": false
  }
 },
 "nbformat": 4,
 "nbformat_minor": 5
}
